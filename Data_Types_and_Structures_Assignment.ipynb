{
  "nbformat": 4,
  "nbformat_minor": 0,
  "metadata": {
    "colab": {
      "provenance": []
    },
    "kernelspec": {
      "name": "python3",
      "display_name": "Python 3"
    },
    "language_info": {
      "name": "python"
    }
  },
  "cells": [
    {
      "cell_type": "markdown",
      "source": [
        "# Data Types and Structures Questions"
      ],
      "metadata": {
        "id": "wTusJwLmJvzc"
      }
    },
    {
      "cell_type": "markdown",
      "source": [
        "1.  What are data structures, and why are they important?\n",
        "- Data structures are ways to organize, store, and manage data efficiently. Examples include arrays, stacks, queues, trees, and graphs.\n",
        "\n",
        "- Why Are They Important?\n",
        "\n",
        "1. Efficiency: Enable fast data access and processing.\n",
        "\n",
        "2. Problem Solving: Simplify complex tasks (e.g., graphs for networks).\n",
        "\n",
        "3. Organization: Manage relationships between data.\n",
        "\n",
        "4. Scalability: Handle large datasets effectively."
      ],
      "metadata": {
        "id": "f7V_g-fJJ_I6"
      }
    },
    {
      "cell_type": "markdown",
      "source": [
        "2.  Explain the difference between mutable and immutable data types with examples.\n",
        "- Mutable Data Types\n",
        "\n",
        "Definition: Objects whose values can be modified after creation.\n",
        "\n",
        "Examples in Python: Lists, dictionaries, sets.\n",
        "\n",
        "Immutable Data Types\n",
        "\n",
        "Definition: Objects whose values cannot be changed after creation. Any \"modification\" creates a new object.\n",
        "\n",
        "Examples in Python: Strings, tuples, integers, floats."
      ],
      "metadata": {
        "id": "Ekhse4eULfhA"
      }
    },
    {
      "cell_type": "markdown",
      "source": [
        "3. What are the main differences between lists and tuples in Python?\n",
        "- Lists vs Tuples in Python\n",
        "\n",
        " . Mutability\n",
        "\n",
        "1. Lists: Mutable. Elements can be added, removed, or modified after creation.\n",
        "\n",
        "Tuples: Immutable. Elements cannot be changed after creation.\n",
        "\n",
        "2. Syntax\n",
        "Lists: Defined using square brackets [ ].\n",
        "\n",
        "Tuples: Defined using parentheses ( ).\n",
        "\n",
        "3. Performance\n",
        "Lists: Generally slower due to dynamic resizing and mutability.\n",
        "\n",
        "Tuples: Faster because they are immutable and have less overhead."
      ],
      "metadata": {
        "id": "9zEi8PpZMuQm"
      }
    },
    {
      "cell_type": "markdown",
      "source": [
        "4. Describe how dictionaries store data?\n",
        "- Dictionaries store data as key-value pairs, where each unique key maps to a specific value. They are commonly implemented using hash tables, allowing efficient access, insertion, and deletion of values by their keys. Keys must be unique and are typically simple types like integers or strings.\n",
        "\n",
        " Key operations include:\n",
        "\n",
        " a. Retrieving values using keys.\n",
        "\n",
        " b.Adding or updating values by assigning them to keys.\n",
        "\n",
        " c.Removing key-value pairs."
      ],
      "metadata": {
        "id": "fPSt89meNv1H"
      }
    },
    {
      "cell_type": "markdown",
      "source": [
        "5.  Why might you use a set instead of a list in Python?\n",
        "- Use a set instead of a list in Python for the following reasons:\n",
        "\n",
        " a. Uniqueness: Sets automatically eliminate duplicate values, ensuring all elements are unique.\n",
        "\n",
        " b. Set Operations: Sets provide built-in methods for mathematical operations like union, intersection, and difference, which are not available with lists.\n",
        "\n",
        " c. Unordered Collection: If you don't care about the order of elements, sets are a better choice since they don't maintain order, unlike lists.\n",
        "\n"
      ],
      "metadata": {
        "id": "j7TUAUGYOiZy"
      }
    },
    {
      "cell_type": "markdown",
      "source": [
        "6. What is a string in Python, and how is it different from a list?\n",
        "- A **string** is a sequence of characters enclosed in quotes.\n",
        " A string is a sequence of characters enclosed in quotes.\n",
        "\n",
        " exapmle:\n",
        " text = \"Hello, world!\"\n",
        "\n",
        " print(text[0])  # Output: 'H'\n",
        "\n",
        " A **list** is a collection of items (which can be of any type), enclosed in square brackets.\n",
        "\n",
        " Lists are mutable, meaning you can change, add, or remove elements.\n",
        "\n",
        " You can also access items using indexing:\n",
        "\n",
        " Example:\n",
        " my_list = [1, 2, 3, \"hello\"]\n",
        "\n",
        " print(my_list[0])  # Output: 1\n",
        "\n"
      ],
      "metadata": {
        "id": "N_SP7VQQPeeO"
      }
    },
    {
      "cell_type": "markdown",
      "source": [
        "7.  How do tuples ensure data integrity in Python?\n",
        "- Tuples ensure data integrity in Python by being immutable, which means their elements cannot be changed after creation. This prevents accidental modifications, maintains data consistency, and allows them to be used in hash-based data structures like dictionaries and sets."
      ],
      "metadata": {
        "id": "TGEITqegRYJh"
      }
    },
    {
      "cell_type": "markdown",
      "source": [
        "8. What is a hash table, and how does it relate to dictionaries in Python?\n",
        "- A hash table is a data structure that stores key-value pairs using a hash function to map keys to specific locations, enabling fast access, insertion, and deletion with an average time complexity of\n",
        "O(1).\n",
        "\n",
        "- In Python, dictionaries are implemented as hash tables, allowing quick lookups and insertions based on hashed keys. This makes dictionaries efficient for storing and retrieving data by unique identifiers.\n",
        "\n"
      ],
      "metadata": {
        "id": "Eelb8Uu6S8kc"
      }
    },
    {
      "cell_type": "markdown",
      "source": [
        "9. Can lists contain different data types in Python?\n",
        "\n",
        "- Yes, Python lists can store elements of different data types, such as integers, strings, floats, and even other lists or objects."
      ],
      "metadata": {
        "id": "AppU543qVbbW"
      }
    },
    {
      "cell_type": "markdown",
      "source": [
        "10. Why are strings immutable in Python?\n",
        "\n",
        "- Strings are immutable to ensure data integrity and optimization. Immutable objects allow safe sharing across multiple parts of a program without risk of accidental modification, improving performance and reducing bugs."
      ],
      "metadata": {
        "id": "Whb2B1twVfuR"
      }
    },
    {
      "cell_type": "markdown",
      "source": [
        "11. What advantages do dictionaries offer over lists for certain tasks?\n",
        "Dictionaries provide fast lookups by key (average\n",
        "O(1) time complexity) and allow storing data in key-value pairs, making them ideal for scenarios like mapping identifiers to values or grouping related data."
      ],
      "metadata": {
        "id": "QWlFAvFRVrqD"
      }
    },
    {
      "cell_type": "markdown",
      "source": [
        "12. Describe a scenario where using a tuple would be preferable over a list?\n",
        "\n",
        "- Tuples are preferred when data must remain unchanged, such as storing coordinates, configuration settings, or constants."
      ],
      "metadata": {
        "id": "1hJyDTREV0oA"
      }
    },
    {
      "cell_type": "markdown",
      "source": [
        "13. How do sets handle duplicate values in Python?\n",
        "- Sets automatically remove duplicates when elements are added, ensuring all items are unique.\n",
        "\n"
      ],
      "metadata": {
        "id": "IWgj_Rl2WEq5"
      }
    },
    {
      "cell_type": "markdown",
      "source": [
        "14. How does the “in” keyword work differently for lists and dictionaries?\n",
        "\n",
        "- For lists, in checks if a value exists in the list. For dictionaries, in checks for the presence of a key, not a value."
      ],
      "metadata": {
        "id": "jDioDPvAWMr1"
      }
    },
    {
      "cell_type": "markdown",
      "source": [
        "15. Can you modify the elements of a tuple? Explain why or why not.\n",
        "\n",
        "- No, tuples are immutable, meaning their elements cannot be modified after creation. This ensures data integrity and consistency"
      ],
      "metadata": {
        "id": "ZjBNkHk1WU9h"
      }
    },
    {
      "cell_type": "markdown",
      "source": [
        "16. What is a nested dictionary, and give an example of its use case?\n",
        "- A nested dictionary is a dictionary containing other dictionaries as values. Example: Storing hierarchical data like student records (students = {\"John\": {\"age\": 20, \"grade\": \"A\"}, \"Emily\": {\"age\": 22, \"grade\": \"B\"}})."
      ],
      "metadata": {
        "id": "gAvVQHd8W2zp"
      }
    },
    {
      "cell_type": "markdown",
      "source": [
        "17. Describe the time complexity of accessing elements in a dictionary?\n",
        "Accessing an element in a dictionary by its key has an average time complexity of O(1) due to its hash table implementation."
      ],
      "metadata": {
        "id": "W0Afbin9XFFt"
      }
    },
    {
      "cell_type": "markdown",
      "source": [
        "18. In what situations are lists preferred over dictionaries?\n",
        "\n",
        "- Lists are preferred when order matters or when storing sequential data without key-value mapping."
      ],
      "metadata": {
        "id": "vJQhDeWKXpCp"
      }
    },
    {
      "cell_type": "markdown",
      "source": [
        "19. Why are dictionaries considered unordered, and how does that affect data retrieval?\n",
        "\n",
        "- Dictionaries were traditionally unordered because they rely on hash tables for storage; this means the order of keys is not guaranteed unless using modern Python versions (3.7+). Retrieval depends on keys rather than position.\n",
        "\n"
      ],
      "metadata": {
        "id": "D0rKe2jUX1I2"
      }
    },
    {
      "cell_type": "markdown",
      "source": [
        "20. Explain the difference between a list and a dictionary in terms of data retrieval.\n",
        "\n",
        "- Lists retrieve elements by their index (position), while dictionaries retrieve values by their keys, enabling faster lookups for specific identifiers."
      ],
      "metadata": {
        "id": "iaZSjPspYCC4"
      }
    },
    {
      "cell_type": "markdown",
      "source": [
        "# Practical Questions"
      ],
      "metadata": {
        "id": "Pujbmyvzc3FY"
      }
    },
    {
      "cell_type": "code",
      "source": [
        "#1 DP Write a code to create a string with your name and print it\n",
        "name = \"manish pandey\"\n",
        "print(name)"
      ],
      "metadata": {
        "colab": {
          "base_uri": "https://localhost:8080/"
        },
        "id": "M1sSOpBGc6Jb",
        "outputId": "75e2e500-0273-47ee-bd0c-1cb4af5bdff0"
      },
      "execution_count": 1,
      "outputs": [
        {
          "output_type": "stream",
          "name": "stdout",
          "text": [
            "manish pandey\n"
          ]
        }
      ]
    },
    {
      "cell_type": "code",
      "source": [
        "#2. Write a code to find the length of the string\n",
        "\"Hello World\"\n",
        "len(\"Hello World\")"
      ],
      "metadata": {
        "colab": {
          "base_uri": "https://localhost:8080/"
        },
        "id": "x1yvrvfdepf6",
        "outputId": "45491815-37c0-44a7-f0b0-4f8bb52031fd"
      },
      "execution_count": 2,
      "outputs": [
        {
          "output_type": "execute_result",
          "data": {
            "text/plain": [
              "11"
            ]
          },
          "metadata": {},
          "execution_count": 2
        }
      ]
    },
    {
      "cell_type": "code",
      "source": [
        "#3. Write a code to slice the first 3 characters from the string\n",
        "word = \"Python Programming\"\n",
        "word[:3]\n"
      ],
      "metadata": {
        "colab": {
          "base_uri": "https://localhost:8080/",
          "height": 36
        },
        "id": "1enXAjIyepcl",
        "outputId": "076a4a3e-5c78-4acf-bb81-8b36e3984d5a"
      },
      "execution_count": 3,
      "outputs": [
        {
          "output_type": "execute_result",
          "data": {
            "text/plain": [
              "'Pyt'"
            ],
            "application/vnd.google.colaboratory.intrinsic+json": {
              "type": "string"
            }
          },
          "metadata": {},
          "execution_count": 3
        }
      ]
    },
    {
      "cell_type": "code",
      "source": [
        "#4. Write a code to convert the string \"hello\" to uppercase\n",
        "word = \"hello\"\n",
        "word.upper()"
      ],
      "metadata": {
        "colab": {
          "base_uri": "https://localhost:8080/",
          "height": 36
        },
        "id": "ENYeSEq9epZq",
        "outputId": "b96811a2-11c0-46a5-f919-240161fc8ef7"
      },
      "execution_count": 4,
      "outputs": [
        {
          "output_type": "execute_result",
          "data": {
            "text/plain": [
              "'HELLO'"
            ],
            "application/vnd.google.colaboratory.intrinsic+json": {
              "type": "string"
            }
          },
          "metadata": {},
          "execution_count": 4
        }
      ]
    },
    {
      "cell_type": "code",
      "source": [
        "#5. Write a code to replace the word \"apple\" with \"orange\" in the string \"I like apple\"\n",
        "sentence = \"I like apple\"\n",
        "sentence.replace(\"apple\", \"orange\")"
      ],
      "metadata": {
        "colab": {
          "base_uri": "https://localhost:8080/",
          "height": 36
        },
        "id": "VWQrhsIteq38",
        "outputId": "bceb61f6-0d63-41f0-d5e9-5914988a5c54"
      },
      "execution_count": 5,
      "outputs": [
        {
          "output_type": "execute_result",
          "data": {
            "text/plain": [
              "'I like orange'"
            ],
            "application/vnd.google.colaboratory.intrinsic+json": {
              "type": "string"
            }
          },
          "metadata": {},
          "execution_count": 5
        }
      ]
    },
    {
      "cell_type": "code",
      "source": [
        "#6. Write a code to create a list with numbers 1 to 5 and print it\n",
        "numbers = [1, 2, 3, 4, 5]\n",
        "print(numbers)"
      ],
      "metadata": {
        "colab": {
          "base_uri": "https://localhost:8080/"
        },
        "id": "j3bG9-p3eq02",
        "outputId": "2665c0d7-b6d3-4a33-c637-031d5e4ec508"
      },
      "execution_count": 6,
      "outputs": [
        {
          "output_type": "stream",
          "name": "stdout",
          "text": [
            "[1, 2, 3, 4, 5]\n"
          ]
        }
      ]
    },
    {
      "cell_type": "code",
      "source": [
        "#7. Write a code to append the number 10 to the list [1, 2, 3, 4]\n",
        "numbers = [1, 2, 3, 4]\n",
        "numbers.append(10)\n",
        "print(numbers)"
      ],
      "metadata": {
        "colab": {
          "base_uri": "https://localhost:8080/"
        },
        "id": "Qnci-UGXequ2",
        "outputId": "a52a3d32-67ec-4eb4-a9e8-dbf01e8340d9"
      },
      "execution_count": 7,
      "outputs": [
        {
          "output_type": "stream",
          "name": "stdout",
          "text": [
            "[1, 2, 3, 4, 10]\n"
          ]
        }
      ]
    },
    {
      "cell_type": "code",
      "source": [
        "#8. Write a code to remove the number 3 from the list [1, 2, 3, 4, 5]\n",
        "numbers = [1, 2, 3, 4, 5]\n",
        "numbers.remove(3)\n",
        "print(numbers)"
      ],
      "metadata": {
        "colab": {
          "base_uri": "https://localhost:8080/"
        },
        "id": "Zvsg0-tWeqsy",
        "outputId": "a9b6476b-0c0b-46a8-e7eb-b4da04789e15"
      },
      "execution_count": 8,
      "outputs": [
        {
          "output_type": "stream",
          "name": "stdout",
          "text": [
            "[1, 2, 4, 5]\n"
          ]
        }
      ]
    },
    {
      "cell_type": "code",
      "source": [
        "#9. Write a code to access the second element in the list ['a', 'b', 'c', 'd']\n",
        "letters = ['a', 'b', 'c', 'd']\n",
        "letters[1]\n"
      ],
      "metadata": {
        "colab": {
          "base_uri": "https://localhost:8080/",
          "height": 36
        },
        "id": "lE04X2BUepWi",
        "outputId": "e63a931b-f5f5-4b0c-d620-f12c0decbf55"
      },
      "execution_count": 9,
      "outputs": [
        {
          "output_type": "execute_result",
          "data": {
            "text/plain": [
              "'b'"
            ],
            "application/vnd.google.colaboratory.intrinsic+json": {
              "type": "string"
            }
          },
          "metadata": {},
          "execution_count": 9
        }
      ]
    },
    {
      "cell_type": "code",
      "source": [
        "#10.  Write a code to reverse the list [10, 20, 30, 40, 50].\n",
        "numbers = [10, 20, 30, 40, 50]\n",
        "numbers.reverse()\n",
        "print(numbers)\n",
        "\n"
      ],
      "metadata": {
        "colab": {
          "base_uri": "https://localhost:8080/"
        },
        "id": "sNK43LTmepTK",
        "outputId": "6529cf34-d757-421c-ad17-89b37593932c"
      },
      "execution_count": 10,
      "outputs": [
        {
          "output_type": "stream",
          "name": "stdout",
          "text": [
            "[50, 40, 30, 20, 10]\n"
          ]
        }
      ]
    },
    {
      "cell_type": "code",
      "source": [
        "#11.  Write a code to create a tuple with the elements 100, 200, 300 and print it.\n",
        "numbers = (100, 200, 300)\n",
        "print(numbers)"
      ],
      "metadata": {
        "colab": {
          "base_uri": "https://localhost:8080/"
        },
        "id": "eo6MRgMbepP0",
        "outputId": "dcf0e639-588d-4004-c0a6-9fdf4944f4d0"
      },
      "execution_count": 11,
      "outputs": [
        {
          "output_type": "stream",
          "name": "stdout",
          "text": [
            "(100, 200, 300)\n"
          ]
        }
      ]
    },
    {
      "cell_type": "code",
      "source": [
        "#12.  Write a code to access the second-to-last element of the tuple ('red', 'green', 'blue', 'yellow').\n",
        "colors = ('red', 'green', 'blue', 'yellow')\n",
        "colors[-2]"
      ],
      "metadata": {
        "colab": {
          "base_uri": "https://localhost:8080/",
          "height": 36
        },
        "id": "4xM7sauZepM6",
        "outputId": "d2da6cb4-8c9c-454c-8592-5cd5d24546be"
      },
      "execution_count": 12,
      "outputs": [
        {
          "output_type": "execute_result",
          "data": {
            "text/plain": [
              "'blue'"
            ],
            "application/vnd.google.colaboratory.intrinsic+json": {
              "type": "string"
            }
          },
          "metadata": {},
          "execution_count": 12
        }
      ]
    },
    {
      "cell_type": "code",
      "source": [
        "#13. Write a code to find the minimum number in the tuple (10, 20, 5, 15).\n",
        "numbers = (10, 20, 5, 15)\n",
        "min(numbers)"
      ],
      "metadata": {
        "colab": {
          "base_uri": "https://localhost:8080/"
        },
        "id": "sGtYoFFgepJh",
        "outputId": "8e1ba16a-e7f8-4707-97a5-d5cff043b4d3"
      },
      "execution_count": 13,
      "outputs": [
        {
          "output_type": "execute_result",
          "data": {
            "text/plain": [
              "5"
            ]
          },
          "metadata": {},
          "execution_count": 13
        }
      ]
    },
    {
      "cell_type": "code",
      "source": [
        "#14.  Write a code to find the index of the element \"cat\" in the tuple ('dog', 'cat', 'rabbit')\n",
        "animals = ('dog', 'cat', 'rabbit')\n",
        "animals.index('cat')"
      ],
      "metadata": {
        "colab": {
          "base_uri": "https://localhost:8080/"
        },
        "id": "EQuLA9FqepGr",
        "outputId": "bbd8c269-c273-493a-cf82-4caf66331171"
      },
      "execution_count": 14,
      "outputs": [
        {
          "output_type": "execute_result",
          "data": {
            "text/plain": [
              "1"
            ]
          },
          "metadata": {},
          "execution_count": 14
        }
      ]
    },
    {
      "cell_type": "code",
      "source": [
        "#15.  Write a code to create a tuple containing three different fruits and check if \"kiwi\" is in it.\n",
        "fruits = ('apple', 'banana', 'orange')\n",
        "'kiwi' in fruits"
      ],
      "metadata": {
        "colab": {
          "base_uri": "https://localhost:8080/"
        },
        "id": "7G6ihNTSeorD",
        "outputId": "f2193249-bb09-48a6-d7a2-2fddb9a01c0e"
      },
      "execution_count": 15,
      "outputs": [
        {
          "output_type": "execute_result",
          "data": {
            "text/plain": [
              "False"
            ]
          },
          "metadata": {},
          "execution_count": 15
        }
      ]
    },
    {
      "cell_type": "code",
      "source": [
        "#16.  Write a code to create a set with the elements 'a', 'b', 'c' and print it.\n",
        "letters = {'a', 'b', 'c'}\n",
        "print(letters)"
      ],
      "metadata": {
        "colab": {
          "base_uri": "https://localhost:8080/"
        },
        "id": "siHEapDKysjr",
        "outputId": "a464eae2-868c-4381-a26a-c041414a6bc2"
      },
      "execution_count": 16,
      "outputs": [
        {
          "output_type": "stream",
          "name": "stdout",
          "text": [
            "{'b', 'c', 'a'}\n"
          ]
        }
      ]
    },
    {
      "cell_type": "code",
      "source": [
        "#17.  Write a code to clear all elements from the set {1, 2, 3, 4, 5}.\n",
        "numbers = {1, 2, 3, 4, 5}\n",
        "numbers.clear()\n",
        "print(numbers)"
      ],
      "metadata": {
        "colab": {
          "base_uri": "https://localhost:8080/"
        },
        "id": "185SmuWPysnB",
        "outputId": "e1278849-1456-4874-a83f-b7e15730cd67"
      },
      "execution_count": 17,
      "outputs": [
        {
          "output_type": "stream",
          "name": "stdout",
          "text": [
            "set()\n"
          ]
        }
      ]
    },
    {
      "cell_type": "code",
      "source": [
        "#18.  Write a code to remove the element 4 from the set {1, 2, 3, 4}\n",
        "numbers = {1, 2, 3, 4}\n",
        "numbers.remove(4)\n",
        "print(numbers)"
      ],
      "metadata": {
        "colab": {
          "base_uri": "https://localhost:8080/"
        },
        "id": "Ke9hJDhhysp8",
        "outputId": "ede450c1-a419-4a6c-fdea-25710cdcd2d8"
      },
      "execution_count": 18,
      "outputs": [
        {
          "output_type": "stream",
          "name": "stdout",
          "text": [
            "{1, 2, 3}\n"
          ]
        }
      ]
    },
    {
      "cell_type": "code",
      "source": [
        "#19.  Write a code to find the union of two sets {1, 2, 3} and {3, 4, 5}.\n",
        "set1 = {1, 2, 3}\n",
        "set2 = {3, 4, 5}\n",
        "union_set = set1.union(set2)\n",
        "print(union_set)"
      ],
      "metadata": {
        "colab": {
          "base_uri": "https://localhost:8080/"
        },
        "id": "m8a3fj65ystQ",
        "outputId": "66a091b3-d2b2-4324-c9bf-cea734619dec"
      },
      "execution_count": 19,
      "outputs": [
        {
          "output_type": "stream",
          "name": "stdout",
          "text": [
            "{1, 2, 3, 4, 5}\n"
          ]
        }
      ]
    },
    {
      "cell_type": "code",
      "source": [
        "#20. Write a code to find the intersection of two sets {1, 2, 3} and {2, 3, 4}.\n",
        "set1 = {1, 2, 3}\n",
        "set2 = {2, 3, 4}\n",
        "intersection_set = set1.intersection(set2)\n",
        "print(intersection_set)"
      ],
      "metadata": {
        "colab": {
          "base_uri": "https://localhost:8080/"
        },
        "id": "UXdFQqzmyswa",
        "outputId": "135669d6-2c7c-4be9-a9d2-f4aae470eb65"
      },
      "execution_count": 20,
      "outputs": [
        {
          "output_type": "stream",
          "name": "stdout",
          "text": [
            "{2, 3}\n"
          ]
        }
      ]
    },
    {
      "cell_type": "code",
      "source": [
        "#21. Write a code to create a dictionary with the keys \"name\", \"age\", and \"city\", and print it.\n",
        "person = {\"name\": \"John\", \"age\": 30, \"city\": \"New York\"}\n",
        "print(person)"
      ],
      "metadata": {
        "colab": {
          "base_uri": "https://localhost:8080/"
        },
        "id": "Blc4q23Cyszi",
        "outputId": "601fa346-3711-4333-e608-91805d1c9741"
      },
      "execution_count": 21,
      "outputs": [
        {
          "output_type": "stream",
          "name": "stdout",
          "text": [
            "{'name': 'John', 'age': 30, 'city': 'New York'}\n"
          ]
        }
      ]
    },
    {
      "cell_type": "code",
      "source": [
        "#22.  Write a code to add a new key-value pair \"country\": \"USA\" to the dictionary {'name': 'John', 'age': 25}\n",
        "person = {'name': 'John', 'age': 25}\n",
        "person['country'] = 'USA'\n",
        "print(person)"
      ],
      "metadata": {
        "colab": {
          "base_uri": "https://localhost:8080/"
        },
        "id": "9fHwYST5ys2o",
        "outputId": "d411ad79-a7cf-4858-c83d-d0b988b42445"
      },
      "execution_count": 22,
      "outputs": [
        {
          "output_type": "stream",
          "name": "stdout",
          "text": [
            "{'name': 'John', 'age': 25, 'country': 'USA'}\n"
          ]
        }
      ]
    },
    {
      "cell_type": "code",
      "source": [
        "#23.  Write a code to access the value associated with the key \"name\" in the dictionary {'name': 'Alice', 'age': 30}.\n",
        "person = {'name': 'Alice', 'age': 30}\n",
        "person['name']"
      ],
      "metadata": {
        "colab": {
          "base_uri": "https://localhost:8080/",
          "height": 36
        },
        "id": "wC1uXw5Mys5w",
        "outputId": "cd8acb81-1c09-42a6-8dd0-d0b7ea49ed6c"
      },
      "execution_count": 23,
      "outputs": [
        {
          "output_type": "execute_result",
          "data": {
            "text/plain": [
              "'Alice'"
            ],
            "application/vnd.google.colaboratory.intrinsic+json": {
              "type": "string"
            }
          },
          "metadata": {},
          "execution_count": 23
        }
      ]
    },
    {
      "cell_type": "code",
      "source": [
        "#24. Write a code to remove the key \"age\" from the dictionary {'name': 'Bob', 'age': 22, 'city': 'New York'}.\n",
        "person = {'name': 'Bob', 'age': 22, 'city': 'New York'}\n",
        "del person['age']\n",
        "print(person)"
      ],
      "metadata": {
        "colab": {
          "base_uri": "https://localhost:8080/"
        },
        "id": "5hBpn3hays9L",
        "outputId": "8d89c17c-3e45-47f3-b3c0-f3d2d224bf6f"
      },
      "execution_count": 24,
      "outputs": [
        {
          "output_type": "stream",
          "name": "stdout",
          "text": [
            "{'name': 'Bob', 'city': 'New York'}\n"
          ]
        }
      ]
    },
    {
      "cell_type": "code",
      "source": [
        "#25. Write a code to check if the key \"city\" exists in the dictionary {'name': 'Alice', 'city': 'Paris'}.\n",
        "person = {'name': 'Alice', 'city': 'Paris'}\n",
        "'city' in person"
      ],
      "metadata": {
        "colab": {
          "base_uri": "https://localhost:8080/"
        },
        "id": "cTIrh8MsytAD",
        "outputId": "7010037e-b7e6-4227-a810-8ea548246ee0"
      },
      "execution_count": 25,
      "outputs": [
        {
          "output_type": "execute_result",
          "data": {
            "text/plain": [
              "True"
            ]
          },
          "metadata": {},
          "execution_count": 25
        }
      ]
    },
    {
      "cell_type": "code",
      "source": [
        "#26.  Write a code to create a list, a tuple, and a dictionary, and print them all\n",
        "my_list = [1, 2, 3, \"hello\", 4.5]\n",
        "print(\"List:\", my_list)\n",
        "\n",
        "my_tuple = (10, 20, 30, \"world\", 4.5)\n",
        "print(\"Tuple:\", my_tuple)\n",
        "\n",
        "my_dict = {\"name\": \"John\", \"age\": 30, \"city\": \"New York\"}"
      ],
      "metadata": {
        "colab": {
          "base_uri": "https://localhost:8080/"
        },
        "id": "O349nLAnytDJ",
        "outputId": "3c5b222e-3152-40e4-bf6b-c895cba6716b"
      },
      "execution_count": 26,
      "outputs": [
        {
          "output_type": "stream",
          "name": "stdout",
          "text": [
            "List: [1, 2, 3, 'hello', 4.5]\n",
            "Tuple: (10, 20, 30, 'world', 4.5)\n"
          ]
        }
      ]
    },
    {
      "cell_type": "code",
      "source": [
        "#27.  Write a code to create a list of 5 random numbers between 1 and 100, sort it in ascending order, and print the\n",
        "#result.(replaced)\n",
        "import random\n",
        "\n",
        "\n",
        "random_numbers = [random.randint(1, 100) for _ in range(5)]\n",
        "\n",
        "\n",
        "random_numbers.sort()\n",
        "\n",
        "\n",
        "print(\"Sorted list of random numbers:\", random_numbers)\n"
      ],
      "metadata": {
        "colab": {
          "base_uri": "https://localhost:8080/"
        },
        "id": "A68N0sQv0GyZ",
        "outputId": "acac6276-eb82-4b37-c8ee-d8eec0853871"
      },
      "execution_count": 27,
      "outputs": [
        {
          "output_type": "stream",
          "name": "stdout",
          "text": [
            "Sorted list of random numbers: [1, 10, 45, 68, 68]\n"
          ]
        }
      ]
    },
    {
      "cell_type": "code",
      "source": [
        "#28. Write a code to create a list with strings and print the element at the third index.\n",
        "\n",
        "string_list = [\"apple\", \"banana\", \"cherry\", \"date\", \"elderberry\"]\n",
        "\n",
        "\n",
        "print(\"Element at third index:\", string_list[2])\n"
      ],
      "metadata": {
        "colab": {
          "base_uri": "https://localhost:8080/"
        },
        "id": "PDsoEk1r0koT",
        "outputId": "412470f1-066d-4755-b352-7d8bdf072a42"
      },
      "execution_count": 28,
      "outputs": [
        {
          "output_type": "stream",
          "name": "stdout",
          "text": [
            "Element at third index: cherry\n"
          ]
        }
      ]
    },
    {
      "cell_type": "code",
      "source": [
        "#29. Write a code to combine two dictionaries into one and print the result.\n",
        "\n",
        "dict1 = {'a': 1, 'b': 2}\n",
        "dict2 = {'c': 3, 'd': 4}\n",
        "\n",
        "\n",
        "combined_dict = {**dict1, **dict2}\n",
        "\n",
        "\n",
        "print(\"Combined dictionary:\", combined_dict)\n"
      ],
      "metadata": {
        "colab": {
          "base_uri": "https://localhost:8080/"
        },
        "id": "PBJf4jXO05sv",
        "outputId": "7872fce6-2b4f-4741-84a9-2cf2252d5beb"
      },
      "execution_count": 29,
      "outputs": [
        {
          "output_type": "stream",
          "name": "stdout",
          "text": [
            "Combined dictionary: {'a': 1, 'b': 2, 'c': 3, 'd': 4}\n"
          ]
        }
      ]
    },
    {
      "cell_type": "code",
      "source": [
        "#30. Write a code to convert a list of strings into a set.\n",
        "string_list = [\"apple\", \"banana\", \"cherry\", \"apple\", \"date\"]\n",
        "\n",
        "\n",
        "string_set = set(string_list)\n",
        "\n",
        "\n",
        "print(\"Set of strings:\", string_set)"
      ],
      "metadata": {
        "colab": {
          "base_uri": "https://localhost:8080/"
        },
        "id": "7smsI9oT1OxD",
        "outputId": "63c262a5-5be7-45dc-adfc-cafe8a623649"
      },
      "execution_count": 30,
      "outputs": [
        {
          "output_type": "stream",
          "name": "stdout",
          "text": [
            "Set of strings: {'apple', 'date', 'cherry', 'banana'}\n"
          ]
        }
      ]
    }
  ]
}